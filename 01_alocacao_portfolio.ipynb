{
  "nbformat": 4,
  "nbformat_minor": 0,
  "metadata": {
    "colab": {
      "provenance": [],
      "include_colab_link": true
    },
    "kernelspec": {
      "name": "python3",
      "display_name": "Python 3"
    },
    "language_info": {
      "name": "python"
    }
  },
  "cells": [
    {
      "cell_type": "markdown",
      "metadata": {
        "id": "view-in-github",
        "colab_type": "text"
      },
      "source": [
        "<a href=\"https://colab.research.google.com/github/lucianeb/colab/blob/main/01_alocacao_portfolio.ipynb\" target=\"_parent\"><img src=\"https://colab.research.google.com/assets/colab-badge.svg\" alt=\"Open In Colab\"/></a>"
      ]
    },
    {
      "cell_type": "code",
      "source": [
        "# importar libraries\n",
        "import yfinance as yf\n",
        "import numpy as np\n",
        "import pandas as pd\n",
        "from scipy.optimize import minimize\n",
        "\n",
        "# Listar os ativos\n",
        "tickers = ['PETR4.SA', 'ITUB4.SA', 'LREN3.SA', 'VALE3.SA', 'EMBR3.SA']\n",
        "\n",
        "# Download de dados históricos\n",
        "data = yf.download(tickers, start=\"2020-01-01\", end=\"2024-07-31\")['Adj Close']\n",
        "\n",
        "# Cálculo dos retorno\n",
        "returns = data.pct_change().dropna()\n",
        "\n",
        "# Definição do portfolio de pesos iguais\n",
        "def equal_weighted_portfolio(n_assets):\n",
        "    return np.ones(n_assets) / n_assets\n",
        "\n",
        "# Definição do portfolio de paridade de riscos\n",
        "def risk_parity_portfolio(cov_matrix):\n",
        "    inv_vol = 1 / np.sqrt(np.diag(cov_matrix))\n",
        "    weights = inv_vol / np.sum(inv_vol)\n",
        "    return weights\n",
        "\n",
        "# Definição do portfolio de mínima variância\n",
        "def min_variance_portfolio(cov_matrix):\n",
        "    n_assets = cov_matrix.shape[0]\n",
        "    args = (cov_matrix,)\n",
        "    constraints = ({'type': 'eq', 'fun': lambda x: np.sum(x) - 1})\n",
        "    bounds = tuple((0, 1) for asset in range(n_assets))\n",
        "    result = minimize(portfolio_variance, n_assets * [1. / n_assets,], args=args,\n",
        "                      method='SLSQP', bounds=bounds, constraints=constraints)\n",
        "    return result.x\n",
        "\n",
        "def portfolio_variance(weights, cov_matrix):\n",
        "    return weights.T @ cov_matrix @ weights\n",
        "\n",
        "# Definição do portfolio de Markovitz\n",
        "def markowitz_portfolio(returns, cov_matrix, risk_free_rate=0.0):\n",
        "    n_assets = cov_matrix.shape[0]\n",
        "    mean_returns = returns.mean() * 252  # Annualize returns\n",
        "    args = (mean_returns, cov_matrix, risk_free_rate)\n",
        "    constraints = ({'type': 'eq', 'fun': lambda x: np.sum(x) - 1})\n",
        "    bounds = tuple((0, 1) for asset in range(n_assets))\n",
        "    result = minimize(neg_sharpe_ratio, n_assets * [1. / n_assets,], args=args,\n",
        "                      method='SLSQP', bounds=bounds, constraints=constraints)\n",
        "    return result.x\n",
        "\n",
        "def neg_sharpe_ratio(weights, mean_returns, cov_matrix, risk_free_rate):\n",
        "    portfolio_return = np.sum(mean_returns * weights)\n",
        "    portfolio_volatility = np.sqrt(weights.T @ cov_matrix @ weights)\n",
        "    sharpe_ratio = (portfolio_return - risk_free_rate) / portfolio_volatility\n",
        "    return -sharpe_ratio\n",
        "\n",
        "# Calcular os pesos de cada portfolio\n",
        "\n",
        "# número de ativos\n",
        "n_assets = returns.shape[1]\n",
        "\n",
        "# matriz de covariância\n",
        "cov_matrix = returns.cov() * 252  # matriz de covariância anualizada\n",
        "\n",
        "# Calculo dos pesos para cada modelo\n",
        "equal_weights = equal_weighted_portfolio(n_assets)\n",
        "risk_parity_weights = risk_parity_portfolio(cov_matrix)\n",
        "min_variance_weights = min_variance_portfolio(cov_matrix)\n",
        "markowitz_weights = markowitz_portfolio(returns, cov_matrix)\n",
        "\n",
        "# Tabela com os pesos de cada modelo\n",
        "\n",
        "# construir dataframe\n",
        "portfolio_weights = pd.DataFrame({\n",
        "    'Equal-Weighted': equal_weights,\n",
        "    'Risk Parity': risk_parity_weights,\n",
        "    'Minimum Variance': min_variance_weights,\n",
        "    'Markowitz': markowitz_weights\n",
        "}, index=tickers)\n",
        "\n",
        "# Formatar tabela de resultados\n",
        "portfolio_weights = portfolio_weights * 100\n",
        "portfolio_weights = portfolio_weights.applymap(lambda x: f\"{x:.1f}%\")\n",
        "\n",
        "# Mostrar o resultado\n",
        "print(portfolio_weights)"
      ],
      "metadata": {
        "id": "WUyh3wa_Rg05"
      },
      "execution_count": null,
      "outputs": []
    }
  ]
}